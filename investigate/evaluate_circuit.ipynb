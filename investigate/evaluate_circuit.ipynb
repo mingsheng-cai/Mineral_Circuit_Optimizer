{
  "nbformat": 4,
  "nbformat_minor": 0,
  "metadata": {
    "colab": {
      "provenance": []
    },
    "kernelspec": {
      "name": "python3",
      "display_name": "Python 3"
    },
    "language_info": {
      "name": "python"
    }
  },
  "cells": [
    {
      "cell_type": "markdown",
      "source": [
        "# <font color='blue'>Comprehension of test code</font>"
      ],
      "metadata": {
        "id": "oSTHtidy4_xU"
      }
    },
    {
      "cell_type": "code",
      "source": [
        "import math\n",
        "\n",
        "# Define default circuit parameters\n",
        "default_circuit_parameters = {'param1': 0.01, 'param2': 1000}\n",
        "\n",
        "# Define the dummy answer vector\n",
        "dummy_answer_vector = [0, 1, 2, 2, 3, 4, 2, 1, 4, 4, 5, 4, 4, 1, 2, 6]\n",
        "\n",
        "def evaluate_circuit(vector_size, circuit_vector, parameters=default_circuit_parameters):\n",
        "    \"\"\"\n",
        "    This function takes a circuit vector and returns a performance value.\n",
        "    The current version of the function is a dummy function that returns\n",
        "    a performance value based on how close the circuit vector is to a predetermined answer vector.\n",
        "    \"\"\"\n",
        "    performance = 0.0\n",
        "    for i in range(vector_size):\n",
        "        # dummy_answer_vector is a predetermined answer vector (same size as circuit_vector)\n",
        "        performance += (20 - abs(circuit_vector[i] - dummy_answer_vector[i])) * 100.0\n",
        "    return performance\n",
        "\n",
        "# Overload function (delete if not needed)\n",
        "# def evaluate_circuit(vector_size, circuit_vector):\n",
        "#     return evaluate_circuit(vector_size, circuit_vector, default_circuit_parameters)\n",
        "\n",
        "# Example usage\n",
        "vector_size = 16\n",
        "# circuit_vector = [0, 1, 2, 2, 3, 4, 2, 1, 4, 4, 5, 4, 4, 1, 2, 6]\n",
        "circuit_vector = [0, 1, 2, 3, 4, 5, 6, 0, 1, 1, 2, 2, 3, 0, 1, 0]\n",
        "performance = evaluate_circuit(vector_size, circuit_vector)\n",
        "print(f\"Performance: {performance}\")\n"
      ],
      "metadata": {
        "colab": {
          "base_uri": "https://localhost:8080/"
        },
        "id": "J_un5JhH46Gn",
        "outputId": "e313dca6-c510-47d0-8eff-169a92405336"
      },
      "execution_count": null,
      "outputs": [
        {
          "output_type": "stream",
          "name": "stdout",
          "text": [
            "Performance: 29200.0\n"
          ]
        }
      ]
    },
    {
      "cell_type": "code",
      "source": [
        "import numpy as np\n",
        "\n",
        "def calculate_unit_flows(F_G, F_w):\n",
        "    # 常量定义\n",
        "    k_G_C = 0.004  # Gerardium in high grade concentrate stream\n",
        "    k_w_C = 0.0002  # Waste in high grade concentrate stream\n",
        "    k_G_I = 0.001  # Gerardium in intermediate grade concentrate stream\n",
        "    k_w_I = 0.0003  # Waste in intermediate grade concentrate stream\n",
        "\n",
        "    rho = 3000  # kg/m³, solid density\n",
        "    phi = 0.1  # Volume fraction solids\n",
        "    V = 10  # m³, cell volume\n",
        "\n",
        "    if F_G + F_w == 0:\n",
        "        return 0, 0, 0, 0, 0, 0\n",
        "\n",
        "    # 停留时间\n",
        "    tau = (phi * V) / ((F_G + F_w) / rho)\n",
        "\n",
        "    # 回收率\n",
        "    R_G_C = (k_G_C * tau) / (1 + k_G_C * tau + k_G_I * tau)\n",
        "    R_w_C = (k_w_C * tau) / (1 + k_w_C * tau + k_w_I * tau)\n",
        "    R_G_I = (k_G_I * tau) / (1 + k_G_C * tau + k_G_I * tau)\n",
        "    R_w_I = (k_w_I * tau) / (1 + k_w_C * tau + k_w_I * tau)\n",
        "\n",
        "    # 计算流量\n",
        "    C_G = F_G * R_G_C\n",
        "    C_w = F_w * R_w_C\n",
        "    I_G = F_G * R_G_I\n",
        "    I_w = F_w * R_w_I\n",
        "    T_G = F_G * (1 - R_G_C - R_G_I)\n",
        "    T_w = F_w * (1 - R_w_C - R_w_I)\n",
        "\n",
        "    return C_G, C_w, I_G, I_w, T_G, T_w\n",
        "\n",
        "def evaluate_circuit(circuit_vector, tolerance=1.0e-6, max_iterations=10000):\n",
        "    num_units = (len(circuit_vector) - 1) // 3\n",
        "    feed_unit = circuit_vector[0]\n",
        "\n",
        "    # 初始化单元流量\n",
        "    F_G = np.zeros(num_units)  # Gerardium feed rate\n",
        "    F_w = np.zeros(num_units)  # Waste feed rate\n",
        "    # F_G[feed_unit] = 10  # Initial gerardium feed rate\n",
        "    # F_w[feed_unit] = 90  # Initial waste feed rate\n",
        "    F_G = np.full(num_units, 10)  # Gerardium feed rate\n",
        "    F_w = np.full(num_units, 90)  # Waste feed rate\n",
        "\n",
        "    for iteration in range(max_iterations):\n",
        "        # 初始化最终浓缩单元和尾矿单元的流量\n",
        "        final_concentrate_G = 0\n",
        "        final_concentrate_w = 0\n",
        "        final_tails_G = 0\n",
        "        final_tails_w = 0\n",
        "\n",
        "        old_F_G = F_G.copy()\n",
        "        old_F_w = F_w.copy()\n",
        "        new_F_G = np.zeros(num_units)\n",
        "        new_F_w = np.zeros(num_units)\n",
        "        new_F_G[feed_unit] = 10  # Initial gerardium feed rate\n",
        "        new_F_w[feed_unit] = 90  # Initial waste feed rate\n",
        "\n",
        "\n",
        "        for i in range(num_units):\n",
        "            C_G, C_w, I_G, I_w, T_G, T_w = calculate_unit_flows(F_G[i], F_w[i])\n",
        "\n",
        "            conc_dest = circuit_vector[3 * i + 1]\n",
        "            inter_dest = circuit_vector[3 * i + 2]\n",
        "            tails_dest = circuit_vector[3 * i + 3]\n",
        "\n",
        "            if conc_dest == num_units:\n",
        "                final_concentrate_G += C_G\n",
        "                final_concentrate_w += C_w\n",
        "            elif conc_dest < num_units and conc_dest != feed_unit:\n",
        "                new_F_G[conc_dest] += C_G\n",
        "                new_F_w[conc_dest] += C_w\n",
        "\n",
        "            if inter_dest == num_units:\n",
        "                final_concentrate_G += I_G\n",
        "                final_concentrate_w += I_w\n",
        "            elif inter_dest < num_units and conc_dest != feed_unit:\n",
        "                new_F_G[inter_dest] += I_G\n",
        "                new_F_w[inter_dest] += I_w\n",
        "\n",
        "            if tails_dest == num_units + 1:\n",
        "                final_tails_G += T_G\n",
        "                final_tails_w += T_w\n",
        "            elif tails_dest < num_units and conc_dest != feed_unit:\n",
        "                new_F_G[tails_dest] += T_G\n",
        "                new_F_w[tails_dest] += T_w\n",
        "\n",
        "        F_G, F_w = new_F_G, new_F_w\n",
        "\n",
        "        if np.allclose(old_F_G, F_G, rtol=tolerance) and np.allclose(old_F_w, F_w, rtol=tolerance):\n",
        "            break\n",
        "\n",
        "\n",
        "\n",
        "    performance = 100 * final_concentrate_G - 750 * final_concentrate_w\n",
        "    return performance, F_G, F_w, final_concentrate_G, final_concentrate_w\n",
        "\n",
        "# 示例电路向量\n",
        "# circuit_vector = [0, 1, 2, 2, 3, 0, 0, 1, 0, 4, num_units, num_units, num_units+1]\n",
        "circuit_vector =[0, 1, 3, 2, 4, 4, 3, 1, 3, 6, 1, 1, 0, 5, 1, 1]\n",
        "circuit_vector =[0, 1, 3, 3, 2, 2, 0, 4, 1, 1, 1, 0, 5]\n",
        "\n",
        "performance, F_G, F_w, f_g, f_w = evaluate_circuit(circuit_vector)\n",
        "print(\"Circuit Performance:\", performance)"
      ],
      "metadata": {
        "colab": {
          "base_uri": "https://localhost:8080/"
        },
        "id": "wHqA59mkyC7z",
        "outputId": "a557f976-e05e-4a99-d34a-f96ee32fd3e6"
      },
      "execution_count": 44,
      "outputs": [
        {
          "output_type": "stream",
          "name": "stdout",
          "text": [
            "Circuit Performance: 110.24946574174113\n"
          ]
        }
      ]
    },
    {
      "cell_type": "code",
      "source": [
        "def evaluate_circuit(circuit_vector, tolerance=1.0e-6, max_iterations=10000):\n",
        "    num_units = (len(circuit_vector) - 1) // 3\n",
        "    feed_unit = circuit_vector[0]\n",
        "\n",
        "    # 初始化单元流量\n",
        "    F_G = np.zeros(num_units)  # Gerardium feed rate\n",
        "    F_w = np.zeros(num_units)  # Waste feed rate\n",
        "    # F_G[feed_unit] = 10  # Initial gerardium feed rate\n",
        "    # F_w[feed_unit] = 90  # Initial waste feed rate\n",
        "    F_G = np.full(num_units, 10)  # Gerardium feed rate\n",
        "    F_w = np.full(num_units, 90)  # Waste feed rate\n",
        "\n",
        "    for iteration in range(max_iterations):\n",
        "        # 初始化最终浓缩单元和尾矿单元的流量\n",
        "        final_concentrate_G = 0\n",
        "        final_concentrate_w = 0\n",
        "        final_tails_G = 0\n",
        "        final_tails_w = 0\n",
        "\n",
        "        old_F_G = F_G.copy()\n",
        "        old_F_w = F_w.copy()\n",
        "        new_F_G = np.zeros(num_units)\n",
        "        new_F_w = np.zeros(num_units)\n",
        "        new_F_G[feed_unit] = 10  # Initial gerardium feed rate\n",
        "        new_F_w[feed_unit] = 90  # Initial waste feed rate\n",
        "\n",
        "\n",
        "        for i in range(num_units):\n",
        "            C_G, C_w, I_G, I_w, T_G, T_w = calculate_unit_flows(F_G[i], F_w[i])\n",
        "\n",
        "            conc_dest = circuit_vector[3 * i + 1]\n",
        "            inter_dest = circuit_vector[3 * i + 2]\n",
        "            tails_dest = circuit_vector[3 * i + 3]\n",
        "\n",
        "            if conc_dest == num_units:\n",
        "                final_concentrate_G += C_G\n",
        "                final_concentrate_w += C_w\n",
        "            elif conc_dest < num_units and conc_dest != feed_unit:\n",
        "                new_F_G[conc_dest] += C_G\n",
        "                new_F_w[conc_dest] += C_w\n",
        "\n",
        "            if inter_dest == num_units:\n",
        "                final_concentrate_G += I_G\n",
        "                final_concentrate_w += I_w\n",
        "            elif inter_dest < num_units and conc_dest != feed_unit:\n",
        "                new_F_G[inter_dest] += I_G\n",
        "                new_F_w[inter_dest] += I_w\n",
        "\n",
        "            if tails_dest == num_units + 1:\n",
        "                final_tails_G += T_G\n",
        "                final_tails_w += T_w\n",
        "            elif tails_dest < num_units and conc_dest != feed_unit:\n",
        "                new_F_G[tails_dest] += T_G\n",
        "                new_F_w[tails_dest] += T_w\n",
        "\n",
        "        F_G, F_w = new_F_G, new_F_w\n",
        "\n",
        "        if np.allclose(old_F_G, F_G, rtol=tolerance) and np.allclose(old_F_w, F_w, rtol=tolerance):\n",
        "            break\n",
        "\n",
        "\n",
        "\n",
        "    performance = 100 * final_concentrate_G - 750 * final_concentrate_w\n",
        "    return performance, F_G, F_w, final_concentrate_G, final_concentrate_w\n",
        "\n",
        "# 示例电路向量\n",
        "# circuit_vector = [0, 1, 2, 2, 3, 0, 0, 1, 0, 4, num_units, num_units, num_units+1]\n",
        "circuit_vector =[0, 1, 3, 2, 4, 4, 3, 1, 3, 6, 1, 1, 0, 5, 1, 1]\n",
        "circuit_vector =[0, 1, 3, 3, 2, 2, 0, 4, 1, 1, 1, 0, 5]\n",
        "\n",
        "performance, F_G, F_w, f_g, f_w = evaluate_circuit(circuit_vector)\n",
        "print(\"Circuit Performance:\", performance)"
      ],
      "metadata": {
        "colab": {
          "base_uri": "https://localhost:8080/"
        },
        "id": "Qd_evyaaQLVY",
        "outputId": "c5d57054-4f81-474b-f7c0-89d9796b4642"
      },
      "execution_count": 42,
      "outputs": [
        {
          "output_type": "stream",
          "name": "stdout",
          "text": [
            "Circuit Performance: 110.24946574174113\n"
          ]
        }
      ]
    },
    {
      "cell_type": "code",
      "source": [
        "f_g"
      ],
      "metadata": {
        "colab": {
          "base_uri": "https://localhost:8080/"
        },
        "id": "OwNBNwEfTLVp",
        "outputId": "9f78c042-288a-435b-f8c3-f5a17fd7ef82"
      },
      "execution_count": 43,
      "outputs": [
        {
          "output_type": "execute_result",
          "data": {
            "text/plain": [
              "1.503315088033363"
            ]
          },
          "metadata": {},
          "execution_count": 43
        }
      ]
    }
  ]
}